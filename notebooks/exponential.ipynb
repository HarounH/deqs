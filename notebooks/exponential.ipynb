{
 "cells": [
  {
   "attachments": {},
   "cell_type": "markdown",
   "metadata": {},
   "source": [
    "# Exponential Growth/Depreciation"
   ]
  },
  {
   "cell_type": "code",
   "execution_count": 14,
   "metadata": {},
   "outputs": [
    {
     "data": {
      "image/png": "[encoded data removed]",
      "text/plain": [
       "<Figure size 400x400 with 1 Axes>"
      ]
     },
     "metadata": {},
     "output_type": "display_data"
    },
    {
     "name": "stdout",
     "output_type": "stream",
     "text": [
      "CPU times: user 83.9 ms, sys: 0 ns, total: 83.9 ms\n",
      "Wall time: 82.8 ms\n"
     ]
    }
   ],
   "source": [
    "%%time\n",
    "%matplotlib inline\n",
    "# Simple exponential growth ODE\n",
    "import torch\n",
    "from torch import autograd\n",
    "from torch import optim\n",
    "import matplotlib.pyplot as plt\n",
    "\n",
    "def dp_dt(p: torch.Tensor, k: torch.Tensor) -> torch.Tensor:\n",
    "    return k * p\n",
    "\n",
    "\n",
    "with torch.no_grad():\n",
    "    p = torch.tensor(5.0)\n",
    "    k_fixed = torch.tensor(1.00001)\n",
    "\n",
    "    t_min = 0.0\n",
    "    t_max = 5.0\n",
    "    dt = 0.1\n",
    "    n = int((t_max - t_min) / dt)\n",
    "    ts = torch.linspace(start=t_min, end=t_max, steps=n)\n",
    "    solved = torch.tensor([False for _ in range(n)], dtype=torch.bool)\n",
    "    ps = torch.tensor([0.0 for _ in range(n)], dtype=torch.float)\n",
    "    ps[0] = p\n",
    "    for i, t in enumerate(ts):\n",
    "        solved[i] = True\n",
    "        if i == 0:\n",
    "            continue\n",
    "        ps[i] = ps[i-1] + (dp_dt(ps[i-1], k_fixed) * dt)\n",
    "    \n",
    "fig, ax = plt.subplots(1, 1, figsize=(4, 4))\n",
    "ax.plot(ts, ps.tolist())\n",
    "plt.show()"
   ]
  },
  {
   "cell_type": "code",
   "execution_count": 5,
   "metadata": {},
   "outputs": [
    {
     "data": {
      "text/plain": [
       "1"
      ]
     },
     "execution_count": 5,
     "metadata": {},
     "output_type": "execute_result"
    }
   ],
   "source": [
    "sgd = optim.SGD(params=[x], lr=0.1)\n",
    "\n",
    "t = 0\n",
    "dt = 0.01\n",
    "for "
   ]
  },
  {
   "cell_type": "code",
   "execution_count": null,
   "metadata": {},
   "outputs": [],
   "source": []
  }
 ],
 "metadata": {
  "kernelspec": {
   "display_name": "efir",
   "language": "python",
   "name": "python3"
  },
  "language_info": {
   "codemirror_mode": {
    "name": "ipython",
    "version": 3
   },
   "file_extension": ".py",
   "mimetype": "text/x-python",
   "name": "python",
   "nbconvert_exporter": "python",
   "pygments_lexer": "ipython3",
   "version": "3.9.16"
  },
  "orig_nbformat": 4
 },
 "nbformat": 4,
 "nbformat_minor": 2
}
